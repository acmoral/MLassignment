{
  "cells": [
    {
      "cell_type": "code",
      "execution_count": 1,
      "metadata": {
        "colab": {
          "base_uri": "https://localhost:8080/",
          "height": 1000
        },
        "id": "ZAFm5KgX8iev",
        "outputId": "c3ea27b3-e079-4336-e2cd-8cb536ecaaa5"
      },
      "outputs": [
        {
          "name": "stderr",
          "output_type": "stream",
          "text": [
            "SoX could not be found!\n",
            "\n",
            "    If you do not have SoX, proceed here:\n",
            "     - - - http://sox.sourceforge.net/ - - -\n",
            "\n",
            "    If you do (or think that you should) have SoX, double-check your\n",
            "    path variables.\n",
            "    \n"
          ]
        }
      ],
      "source": [
        "import jams\n",
        "import os\n",
        "import matplotlib.pyplot as plt\n",
        "#este modulo es local (interpreter.py) y contiene las funciones que se usan para visualizar los jams\n",
        "import interpreter as itp\n",
        "## Change This Cell!\n",
        "gs_path = \"./data/\"\n",
        "anno_dir = \"annotation/\"\n",
        "excerpt = \"02_Rock1-90-C#_solo\""
      ]
    },
    {
      "cell_type": "code",
      "execution_count": 2,
      "metadata": {},
      "outputs": [],
      "source": [
        "jam = jams.load(os.path.join(gs_path, anno_dir, excerpt + \".jams\"))"
      ]
    },
    {
      "cell_type": "code",
      "execution_count": 9,
      "metadata": {},
      "outputs": [
        {
          "data": {
            "text/html": [
              "<div class=\"panel-group\">  <div class=\"panel panel-default\">\n",
              "                        <div class=\"panel-heading\" role=\"tab\" id=\"heading-2074167375088-31\">\n",
              "                            <button\n",
              "                                type=\"button\"\n",
              "                                data-toggle=\"collapse\"\n",
              "                                data-parent=\"#accordion\"\n",
              "                                href=\"#2074167375088-31\"\n",
              "                                aria-expanded=\"false\"\n",
              "                                class=\"collapsed btn btn-info btn-block\"\n",
              "                                aria-controls=\"2074167375088-31\">\n",
              "                                tempo\n",
              "                                <span class=\"badge pull-right\">1</span>\n",
              "                            </button>\n",
              "                        </div>     <div id=\"2074167375088-31\" class=\"panel-collapse collapse\"\n",
              "                             role=\"tabpanel\" aria-labelledby=\"heading-2074167375088-31\">\n",
              "                            <div class=\"panel-body\"><div class=\"pull-right\">\n",
              "                        <div class=\"panel-group\"><div class=\"panel panel-danger\"><div class=\"panel-heading\">\n",
              "                                Annotator&nbsp;\n",
              "                                <span class=\"pull-right\"><em></em></span>\n",
              "                           </div></div><div class=\"panel panel-danger\"><div class=\"panel-heading\">\n",
              "                                Version&nbsp;\n",
              "                                <span class=\"pull-right\"><em></em></span>\n",
              "                           </div></div><div class=\"panel panel-danger\"><div class=\"panel-heading\">\n",
              "                                Corpus&nbsp;\n",
              "                                <span class=\"pull-right\"><em></em></span>\n",
              "                           </div></div><div class=\"panel panel-default\"><div class=\"panel-heading\" role=\"tab\" id=\"heading-2074167377632-32\">\n",
              "                            <button\n",
              "                                type=\"button\"\n",
              "                                data-toggle=\"collapse\"\n",
              "                                data-parent=\"#accordion\"\n",
              "                                href=\"#2074167377632-32\"\n",
              "                                aria-expanded=\"false\"\n",
              "                                class=\"collapsed btn btn-block btn-primary\"\n",
              "                                aria-controls=\"2074167377632-32\">\n",
              "                                Curator </button></div><div class=\"panel-collapse collapse\"\n",
              "                                    id=\"2074167377632-32\"\n",
              "                                    role=\"tabpanel\"\n",
              "                                    aria-labelledby=\"hading2074167377632-32\">\n",
              "                                    <div class=\"panel-body\">\n",
              "                                        <div class=\"panel-group\"><div class=\"panel panel-danger\"><div class=\"panel-heading\">\n",
              "                                Name&nbsp;\n",
              "                                <span class=\"pull-right\"><em></em></span>\n",
              "                           </div></div><div class=\"panel panel-danger\"><div class=\"panel-heading\">\n",
              "                                Email&nbsp;\n",
              "                                <span class=\"pull-right\"><em></em></span>\n",
              "                           </div></div></div>\n",
              "                                    </div>\n",
              "                                </div></div><div class=\"panel panel-danger\"><div class=\"panel-heading\">\n",
              "                                Annotation tools&nbsp;\n",
              "                                <span class=\"pull-right\"><em></em></span>\n",
              "                           </div></div><div class=\"panel panel-danger\"><div class=\"panel-heading\">\n",
              "                                Annotation rules&nbsp;\n",
              "                                <span class=\"pull-right\"><em></em></span>\n",
              "                           </div></div><div class=\"panel panel-danger\"><div class=\"panel-heading\">\n",
              "                                Data source&nbsp;\n",
              "                                <span class=\"pull-right\"><em></em></span>\n",
              "                           </div></div><div class=\"panel panel-danger\"><div class=\"panel-heading\">\n",
              "                                Validation&nbsp;\n",
              "                                <span class=\"pull-right\"><em></em></span>\n",
              "                           </div></div></div>\n",
              "                    </div><div class=\"pull-right clearfix\">\n",
              "                        \n",
              "                    </div><div><table border=\"1\" class=\"dataframe\">\n",
              "                    <thead>\n",
              "                        <tr style=\"text-align: right;\">\n",
              "                            <th></th>\n",
              "                            <th>time</th>\n",
              "                            <th>duration</th>\n",
              "                            <th>value</th>\n",
              "                            <th>confidence</th>\n",
              "                        </tr>\n",
              "                    </thead><tbody><tr>\n",
              "                            <th>0</th>\n",
              "                            <td>0.000</td>\n",
              "                            <td>32.000</td>\n",
              "                            <td>90.0</td>\n",
              "                            <td>1.0</td>\n",
              "                        </tr></tbody></table></div></div></div></div></div>"
            ],
            "text/plain": [
              "[1 annotation]"
            ]
          },
          "execution_count": 9,
          "metadata": {},
          "output_type": "execute_result"
        }
      ],
      "source": [
        "jam.search(namespace='tempo')"
      ]
    },
    {
      "cell_type": "code",
      "execution_count": 8,
      "metadata": {},
      "outputs": [
        {
          "data": {
            "text/plain": [
              "SortedKeyList([Observation(time=4.662967800453515, duration=0.33088435374149583, value=51.13379004677491, confidence=None), Observation(time=5.0164145124716555, duration=0.38312925170068013, value=49.13097682764926, confidence=None), Observation(time=9.02872743764172, duration=0.16253968253968054, value=51.17600938142521, confidence=None), Observation(time=9.191924716553288, duration=0.13351473922902812, value=51.11981245254794, confidence=None), Observation(time=9.34278639455782, duration=0.33088435374149583, value=51.15813989268465, confidence=None), Observation(time=15.014419047619043, duration=0.3018594104308363, value=51.13300405733549, confidence=None), Observation(time=15.338387301587304, duration=0.3018594104308363, value=49.184199600871615, confidence=None), Observation(time=15.641607256235822, duration=0.3366893424036306, value=46.18765526174031, confidence=None), Observation(time=15.999747845804983, duration=0.38312925170068013, value=49.22167312882971, confidence=None), Observation(time=16.404577777777774, duration=0.2728344671201839, value=51.24763125280685, confidence=None), Observation(time=16.694124263038546, duration=0.40054421768707726, value=49.17109519892682, confidence=None), Observation(time=20.321380498866212, duration=0.2844444444444463, value=51.17388354364035, confidence=None), Observation(time=20.629521088435368, duration=0.3947392290249425, value=49.1886395132392, confidence=None), Observation(time=21.02958911564626, duration=0.16253968253968054, value=45.05559787634051, confidence=None)], key=<bound method Annotation._key of <class 'jams.core.Annotation'>>)"
            ]
          },
          "execution_count": 8,
          "metadata": {},
          "output_type": "execute_result"
        }
      ],
      "source": [
        "jam.search(namespace='note_midi')[1].data"
      ]
    },
    {
      "cell_type": "code",
      "execution_count": 4,
      "metadata": {},
      "outputs": [],
      "source": [
        "from mido import MidiFile, MidiTrack, Message, MetaMessage\n",
        "import os\n",
        "import jams\n",
        "import mido\n",
        "\n",
        "def write_midi(inp_file, output_file=None):\n",
        "    #si ya es .midi, no haga nada\n",
        "    _, ext = os.path.splitext(inp_file)\n",
        "    if ext == '.midi':\n",
        "        return\n",
        "    jam = jams.load(inp_file) \n",
        "    notes = jam.search(namespace='note_midi')\n",
        "    bpm = jam.search(namespace='tempo')[0].data[0].value\n",
        "    all_notes = [list(note.data) for note in notes]\n",
        "    strings = [[int(note.annotation_metadata.data_source)+1]*len(note.data) for note in notes]\n",
        "    strings = [string for sublist in strings for string in sublist]\n",
        "    all_notes = [note for sublist in all_notes for note in sublist]\n",
        "    all_notes_with_strings = list(zip(all_notes, strings))\n",
        "    strings = sorted(all_notes_with_strings, key=lambda x: x[0].time)\n",
        "    mid = MidiFile()\n",
        "    tempo = mido.bpm2tempo(bpm)\n",
        "    ticks_per_beat = mid.ticks_per_beat\n",
        "    tracks = []\n",
        "    for string in range(6):\n",
        "        track = MidiTrack()\n",
        "        mid.tracks.append(track)\n",
        "        # Set tempo\n",
        "        track.append(MetaMessage('set_tempo', tempo=tempo, time=0))\n",
        "        # Set instrument to Guitar (program number 26)\n",
        "        track.append(Message('program_change', program=26, time=0))\n",
        "        track.append(MetaMessage('time_signature', numerator=4, denominator=4, time=0))\n",
        "        tracks.append(track)\n",
        "\n",
        "    last_tick = [0] * 6  # tick de cada cuerda\n",
        "\n",
        "    for note in strings:\n",
        "        duration = note[0].duration\n",
        "        start_time = note[0].time\n",
        "        pitch_freq = note[0].value\n",
        "        midi_note = int(pitch_freq)\n",
        "        \n",
        "        start_tick = mido.second2tick(start_time, ticks_per_beat, tempo)\n",
        "        duration_ticks = mido.second2tick(duration, ticks_per_beat, tempo)\n",
        "        \n",
        "        string = note[1] - 1\n",
        "        delta_time = max(0, int(start_tick - last_tick[string]))  # Ensure non-negative delta_time\n",
        "\n",
        "        #time not absolute, relative u.u \n",
        "        tracks[string].append(Message('note_on', note=midi_note, velocity=64, time=delta_time))\n",
        "        tracks[string].append(Message('note_off', note=midi_note, velocity=64, time=duration_ticks))\n",
        "        \n",
        "        last_tick[string] = start_tick + duration_ticks #el ultimo evento fue en este tick\n",
        "    if output_file:\n",
        "        mid.save(output_file)\n",
        "    else:\n",
        "        mid.save(inp_file.replace('.jams', '.mid'))\n",
        "\n",
        "\n",
        "\n"
      ]
    },
    {
      "cell_type": "code",
      "execution_count": 5,
      "metadata": {},
      "outputs": [],
      "source": [
        "write_midi('./data/annotation/02_Rock1-90-C#_solo.jams','./data/transformed/02_Rock1-90-C#_solo.mid')"
      ]
    },
    {
      "cell_type": "code",
      "execution_count": null,
      "metadata": {},
      "outputs": [],
      "source": [
        "for raiz, dirs, archivos in os.walk(directorio):\n",
        "    for archivo in archivos:\n",
        "        ruta_completa = os.path.join(raiz, archivo)\n",
        "        print(ruta_completa)\n",
        "        try:\n",
        "            write_midi(ruta_completa)\n",
        "        except Exception as e:\n",
        "            print(f\"Error al convertir el archivo {ruta_completa}: {e}\")\n",
        "            continue"
      ]
    },
    {
      "cell_type": "code",
      "execution_count": 7,
      "metadata": {},
      "outputs": [
        {
          "name": "stdout",
          "output_type": "stream",
          "text": [
            "C#maj\n",
            "0\n",
            "F#maj\n",
            "4\n",
            "C#maj\n",
            "6\n",
            "G#maj\n",
            "8\n",
            "F#maj\n",
            "9\n",
            "C#maj\n",
            "10\n"
          ]
        },
        {
          "data": {
            "text/plain": [
              "WindowsPath('c:/Users/acmor/Documents/code/IA/ML_course-2024/proyecto/02_Rock1-90-C#_solo.xml')"
            ]
          },
          "execution_count": 7,
          "metadata": {},
          "output_type": "execute_result"
        }
      ],
      "source": [
        "import music21\n",
        "#this one works\n",
        "# Specify the path to your MIDI file\n",
        "midi_path = \"./data/transformed/02_Rock1-90-C#_solo.mid\"\n",
        "mf = music21.midi.MidiFile()\n",
        "mf.open(midi_path)\n",
        "mf.read()\n",
        "mf.close()\n",
        "\n",
        "# Convert MIDI file to music21 stream\n",
        "midi_stream = music21.midi.translate.midiFileToStream(mf)\n",
        "jam = jams.load('./data/annotation/02_Rock1-90-C#_solo.jams')\n",
        "# Assuming the existence of some `jam` object or data that you fetch elsewhere\n",
        "# For this example, let's create some dummy chord data to work with\n",
        "# Example chord data and tempo - you should replace this with your actual data\n",
        "chords = jam.search(namespace='chord')[0].data\n",
        "tempo = jam.search(namespace='tempo')[0].data[0].value # bpm, this should come from your `jam` object\n",
        "\n",
        "# You might want to process the first part only if there are multiple parts\n",
        "part = midi_stream.getElementsByClass('Part')\n",
        "max_part = max(part, key=lambda part: len(part.getElementsByClass('Measure')))\n",
        "# Process each chord\n",
        "for chord_data in chords:\n",
        "    chord_name = chord_data.value.replace(':', '').replace('hdim7', 'm7b5')\n",
        "    print(chord_name)\n",
        "    chord_duration = chord_data.duration\n",
        "    # Calculate the duration in quarter lengths assuming 60 seconds per minute\n",
        "    chord_duration_quarters = (tempo / 60) * chord_duration\n",
        "    # Calculate where to insert the chord in terms of measures\n",
        "    start_measure = int((chord_data.time * tempo / 60) / 4)  # Simplified estimate\n",
        "    print(start_measure)\n",
        "    chord_obj = music21.harmony.ChordSymbol(chord_name)\n",
        "    chord_obj.duration.quarterLength = chord_duration_quarters\n",
        "    max_part.getElementsByClass('Measure')[start_measure].insert(0, chord_obj)  # measures are 1-indexed\n",
        "\n",
        "# Set metadata\n",
        "midi_stream.metadata = music21.metadata.Metadata()\n",
        "midi_stream.metadata.title = \"02_Rock1-90-C#_solo\"\n",
        "\n",
        "# Save as MusicXML (for viewing in notation software)\n",
        "midi_stream.write('musicxml', '02_Rock1-90-C#_solo.xml')\n",
        "\n",
        "\n"
      ]
    }
  ],
  "metadata": {
    "colab": {
      "provenance": []
    },
    "kernelspec": {
      "display_name": "Python 3",
      "language": "python",
      "name": "python3"
    },
    "language_info": {
      "codemirror_mode": {
        "name": "ipython",
        "version": 3
      },
      "file_extension": ".py",
      "mimetype": "text/x-python",
      "name": "python",
      "nbconvert_exporter": "python",
      "pygments_lexer": "ipython3",
      "version": "3.8.19"
    }
  },
  "nbformat": 4,
  "nbformat_minor": 0
}
